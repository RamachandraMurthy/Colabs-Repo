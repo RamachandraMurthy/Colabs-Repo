{
  "nbformat": 4,
  "nbformat_minor": 0,
  "metadata": {
    "colab": {
      "provenance": [],
      "authorship_tag": "ABX9TyOFFxb3cvrxxvrCttzp98vU",
      "include_colab_link": true
    },
    "kernelspec": {
      "name": "python3",
      "display_name": "Python 3"
    },
    "language_info": {
      "name": "python"
    }
  },
  "cells": [
    {
      "cell_type": "markdown",
      "metadata": {
        "id": "view-in-github",
        "colab_type": "text"
      },
      "source": [
        "<a href=\"https://colab.research.google.com/github/RamachandraMurthy/Colabs-Repo/blob/master/Langchain_Directory_load.ipynb\" target=\"_parent\"><img src=\"https://colab.research.google.com/assets/colab-badge.svg\" alt=\"Open In Colab\"/></a>"
      ]
    },
    {
      "cell_type": "markdown",
      "source": [
        "# Program by Ramachandra Murthy\n",
        "\n",
        "03/28/2023\n",
        "\n",
        "This is a perfect library which loads the files from a given directory. It goes in to recursive in to sub folders as well. This can be used as a initial program."
      ],
      "metadata": {
        "id": "TcNu0aD2CJPs"
      }
    },
    {
      "cell_type": "markdown",
      "source": [
        "This is a Directory Loader from the Langchain github repository. This is alternate to my previous version."
      ],
      "metadata": {
        "id": "zDKZQpbNhiqD"
      }
    },
    {
      "cell_type": "code",
      "execution_count": null,
      "metadata": {
        "id": "i06az7nphhFa"
      },
      "outputs": [],
      "source": [
        "!pip install -q langchain\n",
        "!pip install -q unstructured\n",
        "!pip install -q unstructured[local-inference]"
      ]
    },
    {
      "cell_type": "code",
      "source": [
        "\"\"\"Loading logic for loading documents from a directory.\"\"\"\n",
        "import logging\n",
        "from pathlib import Path\n",
        "from typing import List, Type, Union\n",
        "\n",
        "from langchain.docstore.document import Document\n",
        "from langchain.document_loaders.base import BaseLoader\n",
        "from langchain.document_loaders.html_bs import BSHTMLLoader\n",
        "from langchain.document_loaders.text import TextLoader\n",
        "from langchain.document_loaders.unstructured import UnstructuredFileLoader\n",
        "\n",
        "FILE_LOADER_TYPE = Union[\n",
        "    Type[UnstructuredFileLoader], Type[TextLoader], Type[BSHTMLLoader]\n",
        "]\n",
        "#logger = logging.getLogger(__file__) # Replaced _file_ to _nme as suggested by ChatGPT\n",
        "logger = logging.getLogger(__name__)\n",
        "\n",
        "\n",
        "def _is_visible(p: Path) -> bool:\n",
        "    parts = p.parts\n",
        "    for _p in parts:\n",
        "        if _p.startswith(\".\"):\n",
        "            return False\n",
        "    return True\n",
        "\n",
        "\n",
        "class DirectoryLoader(BaseLoader):\n",
        "    \"\"\"Loading logic for loading documents from a directory.\"\"\"\n",
        "\n",
        "    def __init__(\n",
        "        self,\n",
        "        path: str,\n",
        "        glob: str = \"**/[!.]*\",\n",
        "        silent_errors: bool = False,\n",
        "        load_hidden: bool = False,\n",
        "        loader_cls: FILE_LOADER_TYPE = UnstructuredFileLoader,\n",
        "        recursive: bool = False,\n",
        "    ):\n",
        "        \"\"\"Initialize with path to directory and how to glob over it.\"\"\"\n",
        "        self.path = path\n",
        "        self.glob = glob\n",
        "        self.load_hidden = load_hidden\n",
        "        self.loader_cls = loader_cls\n",
        "        self.silent_errors = silent_errors\n",
        "        self.recursive = recursive\n",
        "\n",
        "    def load(self) -> List[Document]:\n",
        "        \"\"\"Load documents.\"\"\"\n",
        "        p = Path(self.path)\n",
        "        docs = []\n",
        "        items = p.rglob(self.glob) if self.recursive else p.glob(self.glob)\n",
        "        for i in items:\n",
        "            if i.is_file():\n",
        "                if _is_visible(i.relative_to(p)) or self.load_hidden:\n",
        "                    try:\n",
        "                        sub_docs = self.loader_cls(str(i)).load()\n",
        "                        docs.extend(sub_docs)\n",
        "                    except Exception as e:\n",
        "                        if self.silent_errors:\n",
        "                            logger.warning(e)\n",
        "                        else:\n",
        "                            raise e\n",
        "        return docs\n",
        "\n",
        "    def list_files(self) -> List[str]:\n",
        "        \"\"\"List file names without loading documents.\"\"\"\n",
        "        p = Path(self.path)\n",
        "        file_paths = []\n",
        "        items = p.rglob(self.glob) if self.recursive else p.glob(self.glob)\n",
        "        for i in items:\n",
        "            if i.is_file():\n",
        "                if _is_visible(i.relative_to(p)) or self.load_hidden:\n",
        "                    file_paths.append(str(i))\n",
        "        return file_paths\n"
      ],
      "metadata": {
        "id": "F-AkTUULh4ic"
      },
      "execution_count": null,
      "outputs": []
    },
    {
      "cell_type": "code",
      "source": [
        "from google.colab import drive\n",
        "drive.mount('/content/drive')\n"
      ],
      "metadata": {
        "colab": {
          "base_uri": "https://localhost:8080/"
        },
        "id": "PEByee0GiGqX",
        "outputId": "423dec0c-a2d1-4141-d81e-0b93ddd5dd1e"
      },
      "execution_count": null,
      "outputs": [
        {
          "output_type": "stream",
          "name": "stdout",
          "text": [
            "Drive already mounted at /content/drive; to attempt to forcibly remount, call drive.mount(\"/content/drive\", force_remount=True).\n"
          ]
        }
      ]
    },
    {
      "cell_type": "code",
      "source": [
        "path = \"/content/drive/MyDrive/Colab Notebooks/Data/\"  # Replace with the path to your directory containing documents\n",
        "glob_pattern = \"**/[!.]*\"  # You can change this pattern to match the files you want to load\n",
        "recursive = True  # Set to True if you want to load files from subdirectories, False otherwise\n",
        "\n",
        "loader = DirectoryLoader(path, glob=glob_pattern, recursive=recursive)\n"
      ],
      "metadata": {
        "id": "dyD3-BQtiIj5"
      },
      "execution_count": null,
      "outputs": []
    },
    {
      "cell_type": "code",
      "source": [
        "from pathlib import Path\n",
        "from collections import defaultdict\n",
        "\n",
        "# List file names without loading documents\n",
        "file_names = loader.list_files()\n",
        "\n",
        "# Sort file names based on file type (extension)\n",
        "sorted_file_names = sorted(file_names, key=lambda x: Path(x).suffix)\n",
        "\n",
        "# Generate summary of total files, file types, and their counts\n",
        "file_type_counts = defaultdict(int)\n",
        "for file_name in sorted_file_names:\n",
        "    file_type = Path(file_name).suffix\n",
        "    file_type_counts[file_type] += 1\n",
        "\n",
        "total_files = len(sorted_file_names)\n",
        "unique_file_types = len(file_type_counts)\n",
        "\n",
        "# Print the summary\n",
        "print(f\"Total Files: {total_files}\")\n",
        "print(f\"Unique File Types: {unique_file_types}\")\n",
        "print(\"File Type Counts:\")\n",
        "for file_type, count in file_type_counts.items():\n",
        "    print(f\"{file_type}: {count}\")\n",
        "\n",
        "# Print sorted file names one below the other\n",
        "print(\"\\nFile Names:\")\n",
        "for file_name in sorted_file_names:\n",
        "    print(file_name)\n"
      ],
      "metadata": {
        "id": "sWJD5UUI-NFB"
      },
      "execution_count": null,
      "outputs": []
    },
    {
      "cell_type": "code",
      "source": [
        "docs = loader.load()\n"
      ],
      "metadata": {
        "id": "yc9F8cRViMz-"
      },
      "execution_count": null,
      "outputs": []
    }
  ]
}